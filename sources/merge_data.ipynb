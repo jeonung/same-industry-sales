{
 "cells": [
  {
   "cell_type": "markdown",
   "metadata": {},
   "source": [
    "# 데이터 통합\n",
    "- 데이터 기간: 2022Q3 ~ 2024Q2 (코로나 영향을 제거하고자 2022 3분기부터 시작)\n",
    "- TRDAR_SE_CD를 key로 merge"
   ]
  },
  {
   "cell_type": "code",
   "execution_count": null,
   "metadata": {},
   "outputs": [],
   "source": []
  }
 ],
 "metadata": {
  "language_info": {
   "name": "python"
  }
 },
 "nbformat": 4,
 "nbformat_minor": 2
}
